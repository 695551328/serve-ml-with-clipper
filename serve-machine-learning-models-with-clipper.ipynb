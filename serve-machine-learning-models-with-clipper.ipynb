{
 "cells": [
  {
   "cell_type": "markdown",
   "metadata": {},
   "source": [
    "# Serve Machine Learning Models with Clipper\n",
    "\n",
    "This notebook walks you through how to serve machine learning models with [Clipper](http://clipper.ai/). Specifically, we cover\n",
    "\n",
    "- Model training\n",
    "- Clipper cluster creation\n",
    "- App creation & model deployment\n",
    "- Model query\n",
    "- Model versioning (update & rollback)\n",
    "- Model replication\n",
    "\n",
    "Jupyter notebook is great for demo purpose but in production you might want to refactor the code into Python scripts!"
   ]
  },
  {
   "cell_type": "markdown",
   "metadata": {},
   "source": [
    "## Model training\n",
    "\n",
    "We have to train a model before we can serve it. In this section we would train a decision tree on the Boston dataset.\n",
    "\n",
    "In this demo we keep the model in memory but in real-world applications we might spend some time tuning the models and serialize the best one to storage. We can then load that model back into memory when serving."
   ]
  },
  {
   "cell_type": "code",
   "execution_count": null,
   "metadata": {},
   "outputs": [],
   "source": [
    "from sklearn import datasets\n",
    "from sklearn.tree import DecisionTreeRegressor\n",
    "\n",
    "# load data\n",
    "boston = datasets.load_boston()\n",
    "X = boston.data[:500]\n",
    "y = boston.target[:500]\n",
    "\n",
    "# train a classifier\n",
    "tree_v1 = DecisionTreeRegressor(random_state=2018)\n",
    "tree_v1.fit(X, y)"
   ]
  },
  {
   "cell_type": "markdown",
   "metadata": {},
   "source": [
    "## Clipper cluster creation"
   ]
  },
  {
   "cell_type": "code",
   "execution_count": null,
   "metadata": {
    "collapsed": true
   },
   "outputs": [],
   "source": [
    "# First we need to import Clipper\n",
    "from clipper_admin import ClipperConnection, DockerContainerManager\n",
    "from clipper_admin.deployers.python import deploy_python_closure"
   ]
  },
  {
   "cell_type": "code",
   "execution_count": null,
   "metadata": {
    "collapsed": true
   },
   "outputs": [],
   "source": [
    "# Create a Clipper connection\n",
    "clipper_conn = ClipperConnection(DockerContainerManager())"
   ]
  },
  {
   "cell_type": "code",
   "execution_count": null,
   "metadata": {},
   "outputs": [],
   "source": [
    "# Start a Clipper cluster or connect to a running one\n",
    "import requests\n",
    "try:\n",
    "    clipper_conn.start_clipper()    \n",
    "except requests.exceptions.HTTPError:\n",
    "    clipper_conn.connect()"
   ]
  },
  {
   "cell_type": "markdown",
   "metadata": {},
   "source": [
    "## App creation & model deployment"
   ]
  },
  {
   "cell_type": "code",
   "execution_count": null,
   "metadata": {},
   "outputs": [],
   "source": [
    "# Register an app called 'boston'. This would create a REST endpoint\n",
    "clipper_conn.register_application(name=\"boston\", input_type=\"doubles\",\n",
    "                                  default_output=\"-1.0\", slo_micros=100000)"
   ]
  },
  {
   "cell_type": "code",
   "execution_count": null,
   "metadata": {
    "collapsed": true
   },
   "outputs": [],
   "source": [
    "# Access the trained model via closure capture\n",
    "def predict(inputs):\n",
    "    global model\n",
    "    pred = model.predict(inputs)\n",
    "    return [str(p) for p in pred]"
   ]
  },
  {
   "cell_type": "code",
   "execution_count": null,
   "metadata": {
    "collapsed": true
   },
   "outputs": [],
   "source": [
    "# Point to the tree model\n",
    "model = tree_v1"
   ]
  },
  {
   "cell_type": "code",
   "execution_count": null,
   "metadata": {
    "scrolled": true
   },
   "outputs": [],
   "source": [
    "# Deploy the 'predict' function as a model\n",
    "deploy_python_closure(clipper_conn, name=\"tree-model\",\n",
    "                      version=1, input_type=\"doubles\", func=predict)"
   ]
  },
  {
   "cell_type": "code",
   "execution_count": null,
   "metadata": {},
   "outputs": [],
   "source": [
    "# Routes requests for the application 'boston' to the model 'tree-model'\n",
    "clipper_conn.link_model_to_app(app_name=\"boston\", model_name=\"tree-model\")"
   ]
  },
  {
   "cell_type": "markdown",
   "metadata": {},
   "source": [
    "## Query model\n",
    "\n",
    "We can now query the deployed model using either [curl](https://curl.haxx.se/) or within Python, as shown here"
   ]
  },
  {
   "cell_type": "code",
   "execution_count": null,
   "metadata": {},
   "outputs": [],
   "source": [
    "import json\n",
    "inputs = boston.data[-1] # use the last data point for query\n",
    "headers = {\"Content-type\": \"application/json\"}\n",
    "requests.post(\"http://localhost:1337/boston/predict\", headers=headers,\n",
    "              data=json.dumps({\"input\": list(inputs)})).json()"
   ]
  },
  {
   "cell_type": "markdown",
   "metadata": {},
   "source": [
    "See the **'output'** part? That's the prediction by our model"
   ]
  },
  {
   "cell_type": "markdown",
   "metadata": {},
   "source": [
    "## Model Replacement\n",
    "\n",
    "Machine learning models are rarely static. Instead, data science tends to be an iterative process, with new and improved models being developed over time.\n",
    "\n",
    "Say we found that our tree model is overfitting and we heard that there is a better algorithm called random forest. We A/B tested and found random forest outperform tree. We'd love to replace the existing tree model with a new random forest model. \n",
    "\n",
    "Note: I don't do any evaluation here but simply demo model replacement"
   ]
  },
  {
   "cell_type": "code",
   "execution_count": null,
   "metadata": {},
   "outputs": [],
   "source": [
    "# we train a simple random forest model first\n",
    "from sklearn.ensemble import RandomForestRegressor\n",
    "forest_v1 = RandomForestRegressor(random_state=2018, n_estimators=10, n_jobs=-1)\n",
    "forest_v1.fit(X, y)"
   ]
  },
  {
   "cell_type": "code",
   "execution_count": null,
   "metadata": {
    "collapsed": true
   },
   "outputs": [],
   "source": [
    "# replace the model in the closure function\n",
    "model = forest_v1"
   ]
  },
  {
   "cell_type": "code",
   "execution_count": null,
   "metadata": {
    "scrolled": true
   },
   "outputs": [],
   "source": [
    "# Deploy the 'predict' function as a model (to a new container); notice the name change\n",
    "deploy_python_closure(clipper_conn, name=\"forest-model\",\n",
    "                      version=1, input_type=\"doubles\", func=predict)"
   ]
  },
  {
   "cell_type": "code",
   "execution_count": null,
   "metadata": {},
   "outputs": [],
   "source": [
    "# Register a new app called 'boston-new', since one app can be linked to one model only \n",
    "clipper_conn.register_application(name=\"boston-new\", input_type=\"doubles\",\n",
    "                                  default_output=\"-1.0\", slo_micros=100000)"
   ]
  },
  {
   "cell_type": "code",
   "execution_count": null,
   "metadata": {},
   "outputs": [],
   "source": [
    "# Routes requests for the application 'boston-new' to the model 'forest-model'\n",
    "clipper_conn.link_model_to_app(app_name=\"boston-new\", model_name=\"forest-model\")"
   ]
  },
  {
   "cell_type": "code",
   "execution_count": null,
   "metadata": {},
   "outputs": [],
   "source": [
    "# query the new model; notice the end-point change\n",
    "requests.post(\"http://localhost:1337/boston-new/predict\", headers=headers,\n",
    "              data=json.dumps({\"input\": list(inputs)})).json()"
   ]
  },
  {
   "cell_type": "markdown",
   "metadata": {},
   "source": [
    "The random forest predicts a different house price now"
   ]
  },
  {
   "cell_type": "markdown",
   "metadata": {},
   "source": [
    "## Model update\n",
    "\n",
    "Say we heard by including more trees in our random forest we are likely to get better prediction. We tried and found it indeed is the case. We decide to deploy a version 2 of our random forest model."
   ]
  },
  {
   "cell_type": "code",
   "execution_count": null,
   "metadata": {},
   "outputs": [],
   "source": [
    "# train another random forest model with more trees\n",
    "forest_v2 = RandomForestRegressor(random_state=2018, n_estimators=100, n_jobs=-1)\n",
    "forest_v2.fit(X, y)"
   ]
  },
  {
   "cell_type": "code",
   "execution_count": null,
   "metadata": {
    "collapsed": true
   },
   "outputs": [],
   "source": [
    "# replace the model in the closure function\n",
    "model = forest_v2"
   ]
  },
  {
   "cell_type": "code",
   "execution_count": null,
   "metadata": {
    "scrolled": true
   },
   "outputs": [],
   "source": [
    "# Deploy the 'predict' function as a model (to a new container); notice the name change\n",
    "deploy_python_closure(clipper_conn, name=\"forest-model\",\n",
    "                      version=2, input_type=\"doubles\", func=predict)"
   ]
  },
  {
   "cell_type": "code",
   "execution_count": null,
   "metadata": {},
   "outputs": [],
   "source": [
    "# query the new model: by default the query is routed to the lastest version\n",
    "requests.post(\"http://localhost:1337/boston-new/predict\", headers=headers,\n",
    "              data=json.dumps({\"input\": list(inputs)})).json()"
   ]
  },
  {
   "cell_type": "markdown",
   "metadata": {},
   "source": [
    "## Model rollback\n",
    "\n",
    "Say after some time we found random forest model v2 is inferior to v1 on real-world data, and we decide to rollback to model version v1"
   ]
  },
  {
   "cell_type": "code",
   "execution_count": null,
   "metadata": {
    "collapsed": true
   },
   "outputs": [],
   "source": [
    "# rollback\n",
    "clipper_conn.set_model_version(name='forest-model', version='1')"
   ]
  },
  {
   "cell_type": "code",
   "execution_count": null,
   "metadata": {},
   "outputs": [],
   "source": [
    "# notice the prediction is same as forest-model v1\n",
    "requests.post(\"http://localhost:1337/boston-new/predict\", headers=headers,\n",
    "              data=json.dumps({\"input\": list(inputs)})).json()"
   ]
  },
  {
   "cell_type": "markdown",
   "metadata": {},
   "source": [
    "## Model replication\n",
    "\n",
    "Many machine learning models are computationally expensive and a single instance of the model may not meet the throughput demands of a serving workload. To increase prediction throughput, you can add additional replicas of a model. "
   ]
  },
  {
   "cell_type": "code",
   "execution_count": null,
   "metadata": {},
   "outputs": [],
   "source": [
    "# add replica to increase throughput\n",
    "clipper_conn.set_num_replicas('forest-model', num_replicas=10, version='1')"
   ]
  },
  {
   "cell_type": "markdown",
   "metadata": {},
   "source": [
    "## Stop Clipper"
   ]
  },
  {
   "cell_type": "code",
   "execution_count": null,
   "metadata": {
    "collapsed": true
   },
   "outputs": [],
   "source": [
    "# clipper_conn.stop_all()"
   ]
  }
 ],
 "metadata": {
  "kernelspec": {
   "display_name": "Python 2",
   "language": "python",
   "name": "python2"
  },
  "language_info": {
   "codemirror_mode": {
    "name": "ipython",
    "version": 2
   },
   "file_extension": ".py",
   "mimetype": "text/x-python",
   "name": "python",
   "nbconvert_exporter": "python",
   "pygments_lexer": "ipython2",
   "version": "2.7.14"
  }
 },
 "nbformat": 4,
 "nbformat_minor": 2
}
